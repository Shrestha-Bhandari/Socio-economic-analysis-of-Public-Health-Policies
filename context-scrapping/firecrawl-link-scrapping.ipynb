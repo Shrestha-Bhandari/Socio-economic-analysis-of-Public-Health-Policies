{
 "cells": [
  {
   "cell_type": "code",
   "execution_count": 5,
   "id": "c91423e4-3c27-43a3-9346-9ad342e2b122",
   "metadata": {},
   "outputs": [
    {
     "name": "stdout",
     "output_type": "stream",
     "text": [
      "Requirement already satisfied: firecrawl in ./anaconda3/lib/python3.11/site-packages (1.12.0)\n",
      "Requirement already satisfied: pydantic in ./anaconda3/lib/python3.11/site-packages (2.10.6)\n",
      "Requirement already satisfied: requests in ./anaconda3/lib/python3.11/site-packages (from firecrawl) (2.31.0)\n",
      "Requirement already satisfied: python-dotenv in ./anaconda3/lib/python3.11/site-packages (from firecrawl) (0.21.0)\n",
      "Requirement already satisfied: websockets in ./anaconda3/lib/python3.11/site-packages (from firecrawl) (15.0)\n",
      "Requirement already satisfied: nest-asyncio in ./anaconda3/lib/python3.11/site-packages (from firecrawl) (1.5.6)\n",
      "Requirement already satisfied: annotated-types>=0.6.0 in ./anaconda3/lib/python3.11/site-packages (from pydantic) (0.7.0)\n",
      "Requirement already satisfied: pydantic-core==2.27.2 in ./anaconda3/lib/python3.11/site-packages (from pydantic) (2.27.2)\n",
      "Requirement already satisfied: typing-extensions>=4.12.2 in ./anaconda3/lib/python3.11/site-packages (from pydantic) (4.12.2)\n",
      "Requirement already satisfied: charset-normalizer<4,>=2 in ./anaconda3/lib/python3.11/site-packages (from requests->firecrawl) (2.0.4)\n",
      "Requirement already satisfied: idna<4,>=2.5 in ./anaconda3/lib/python3.11/site-packages (from requests->firecrawl) (2.10)\n",
      "Requirement already satisfied: urllib3<3,>=1.21.1 in ./anaconda3/lib/python3.11/site-packages (from requests->firecrawl) (1.26.16)\n",
      "Requirement already satisfied: certifi>=2017.4.17 in ./anaconda3/lib/python3.11/site-packages (from requests->firecrawl) (2024.8.30)\n"
     ]
    }
   ],
   "source": [
    "!pip install firecrawl pydantic"
   ]
  },
  {
   "cell_type": "code",
   "execution_count": 13,
   "id": "ab3525e3-c4f6-4825-abb4-b86abac2bd41",
   "metadata": {},
   "outputs": [
    {
     "name": "stdout",
     "output_type": "stream",
     "text": [
      "{'links': ['https://www.census.gov/en.html', 'https://www.census.gov/newsroom.html', 'https://www.census.gov/newsroom/blogs.html', 'https://www.census.gov/newsroom/blogs/research-matters.html#content', 'https://www.census.gov/newsroom/blogs.html', 'https://www.census.gov/newsroom/blogs/research-matters/2024/12/aea-assa-meetings.html', 'https://www.census.gov/newsroom/blogs/research-matters/2024/12/ai-use-small-businesses.html', 'https://www.census.gov/newsroom/blogs/research-matters/2024/11/2010-2020-intercensal-population-and-housing-unit-estimates.html', 'https://www.census.gov/newsroom/blogs/research-matters/2024/09/connection-between-intent-and-actual-participation.html', 'https://www.census.gov/newsroom/blogs/research-matters/2024/09/administrative-data-nonresponse-bias-cps-asec.html', 'https://www.census.gov/newsroom/blogs/research-matters/2024/09/supplemental-poverty-measure.html', 'https://www.census.gov/newsroom/blogs/research-matters/2024/09/inflation-affects-income-earnings-estimates.html', 'https://www.census.gov/newsroom/blogs/research-matters/2024/08/hurricane-debby.html', 'https://www.census.gov/newsroom/blogs/research-matters/2024/01/aea-assa-annual-meeting.html', 'https://www.census.gov/newsroom/blogs/research-matters/2023/09/using-administrative-data-nonresponse-cps-asec.html', 'https://www.census.gov/newsroom/blogs/research-matters/2023/09/advanced-technology-use-and-automation-results.html', 'https://www.census.gov/newsroom/blogs/research-matters/2023/09/inflation-income-and-earnings-estimates.html', 'https://www.census.gov/newsroom/blogs/research-matters/2023/04/technology-largest-dataset-in-history.html', 'https://www.census.gov/newsroom/blogs/research-matters/2023/01/aea-assa-annual-meeting.html', 'https://www.census.gov/newsroom/blogs/research-matters/2022/10/technology-transformation.html', 'https://www.census.gov/newsroom/blogs/research-matters/2022/09/how-did-the-pandemic-affect-survey-response.html', 'https://www.census.gov/newsroom/blogs/research-matters/2022/08/unanticipated-benefits-compensating-respondents.html', 'https://www.census.gov/newsroom/blogs/research-matters/2022/01/aea-assa-annual-meeting.html', 'https://www.census.gov/newsroom/blogs/research-matters/2021/10/four-cooperative-agreements.html', 'https://www.census.gov/newsroom/blogs/research-matters/2021/09/pandemic-affect-survey-response.html', 'https://www.census.gov/newsroom/blogs/research-matters/2021/09/transitions-in-health-insurance-coverage.html', 'https://www.census.gov/newsroom/blogs/research-matters/2020/12/census_bureau_econom.html', 'https://www.census.gov/newsroom/blogs/research-matters/2020/11/2018_data_measuresa.html', 'https://www.census.gov/newsroom/blogs/research-matters/2020/09/three_cooperativeag.html', 'https://www.census.gov/newsroom/blogs/research-matters/2020/08/acs-disclosure-avoidance-and-release-plans.html', 'https://www.census.gov/newsroom/blogs/research-matters/2020/07/tech_stats_centraliz.html', 'https://www.census.gov/newsroom/blogs/research-matters/2020/06/the_impact_of_2010c.html', 'https://www.census.gov/newsroom/blogs/research-matters/2020/06/modernizing_disclosu.html', 'https://www.census.gov/newsroom/blogs/research-matters/2020/03/modernizing_disclosu.html', 'https://www.census.gov/newsroom/blogs/research-matters/2020/02/census_bureau_works.html', 'https://www.census.gov/newsroom/blogs/research-matters/2019/10/balancing_privacyan.html', 'https://www.census.gov/newsroom/blogs/research-matters/2019/10/fourth_wave_of_2014.html', 'https://www.census.gov/newsroom/blogs/research-matters/2019/09/current-coverage.html', 'https://www.census.gov/newsroom/blogs/research-matters/2019/09/cps-asec.html', 'https://www.census.gov/newsroom/blogs/research-matters/2019/06/disclosure_avoidance.html', 'https://www.census.gov/newsroom/blogs/research-matters/2019/03/shape_your_future.html']}\n"
     ]
    }
   ],
   "source": [
    "from firecrawl import FirecrawlApp\n",
    "from pydantic import BaseModel\n",
    "from typing import List\n",
    "\n",
    "# Initialize the FirecrawlApp with your API key\n",
    "app = FirecrawlApp(api_key='fc-5d024b5fbbc246e39274126bd84c8a1e')\n",
    "\n",
    "# Define a schema to extract all sub-links from the page\n",
    "class SubLinksSchema(BaseModel):\n",
    "    links: List[str]\n",
    "\n",
    "# Use Firecrawl to scrape the URL and extract sub-links using the defined schema.\n",
    "data = app.scrape_url(\n",
    "    'https://www.census.gov/researchmatters',\n",
    "    {\n",
    "        'formats': ['json'],\n",
    "        'jsonOptions': {\n",
    "            'schema': SubLinksSchema.model_json_schema(),\n",
    "        }\n",
    "    }\n",
    ")\n",
    "\n",
    "print(data[\"json\"])\n"
   ]
  },
  {
   "cell_type": "code",
   "execution_count": null,
   "id": "b73ba1ee-3ee2-47ad-90ec-963f1a36f38b",
   "metadata": {},
   "outputs": [],
   "source": []
  }
 ],
 "metadata": {
  "kernelspec": {
   "display_name": "Python 3 (ipykernel)",
   "language": "python",
   "name": "python3"
  },
  "language_info": {
   "codemirror_mode": {
    "name": "ipython",
    "version": 3
   },
   "file_extension": ".py",
   "mimetype": "text/x-python",
   "name": "python",
   "nbconvert_exporter": "python",
   "pygments_lexer": "ipython3",
   "version": "3.11.5"
  }
 },
 "nbformat": 4,
 "nbformat_minor": 5
}
