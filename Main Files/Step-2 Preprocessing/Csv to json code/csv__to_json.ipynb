{
  "nbformat": 4,
  "nbformat_minor": 0,
  "metadata": {
    "colab": {
      "provenance": []
    },
    "kernelspec": {
      "name": "python3",
      "display_name": "Python 3"
    },
    "language_info": {
      "name": "python"
    }
  },
  "cells": [
    {
      "cell_type": "code",
      "source": [
        "from google.colab import drive\n",
        "drive.mount('/content/drive')"
      ],
      "metadata": {
        "colab": {
          "base_uri": "https://localhost:8080/"
        },
        "id": "FxxTGh3C99Jz",
        "outputId": "002111ae-b77a-46dd-9a97-fb8484a5c310"
      },
      "execution_count": null,
      "outputs": [
        {
          "output_type": "stream",
          "name": "stdout",
          "text": [
            "Mounted at /content/drive\n"
          ]
        }
      ]
    },
    {
      "cell_type": "code",
      "source": [
        "import pandas as pd\n",
        "import re\n",
        "import json\n",
        "import os\n"
      ],
      "metadata": {
        "id": "-0YgWh3ioOp9"
      },
      "execution_count": null,
      "outputs": []
    },
    {
      "cell_type": "code",
      "source": [
        "\n",
        "# === Input Folder ===\n",
        "folder_path = \"/content/drive/MyDrive/Socioeconomic dataset/Education Attainment\"  # change to your folder path\n",
        "\n",
        "# === All Years ===\n",
        "years = range(2010, 2024)\n",
        "\n",
        "# === Final JSON list ===\n",
        "jsonl_data = []\n"
      ],
      "metadata": {
        "id": "oxWYZgt4oRd-"
      },
      "execution_count": null,
      "outputs": []
    },
    {
      "cell_type": "code",
      "source": [
        "for year in years:\n",
        "    print(f\"📦 Processing {year}...\")\n",
        "\n",
        "    data_file = os.path.join(folder_path, f\"ACSST5Y{year}.S1501-Data.csv\")\n",
        "    meta_file = os.path.join(folder_path, f\"ACSST5Y{year}.S1501-Column-Metadata.csv\")\n",
        "\n",
        "    # Read files\n",
        "    try:\n",
        "        df_data = pd.read_csv(data_file, skiprows=1)\n",
        "        df_meta = pd.read_csv(meta_file)\n",
        "    except Exception as e:\n",
        "        print(f\"❌ Skipping {year} due to error: {e}\")\n",
        "        continue\n",
        "\n",
        "    # Only Estimate columns, no margin columns\n",
        "    estimate_cols = [col for col in df_data.columns if \"!!Estimate!!\" in col]\n",
        "\n",
        "    # Meta dictionary\n",
        "    meta_dict = {\n",
        "        row['Column Name']: row['Label']\n",
        "        for _, row in df_meta.iterrows()\n",
        "        if pd.notna(row['Column Name']) and pd.notna(row['Label'])\n",
        "    }\n",
        "\n",
        "    for _, row in df_data.iterrows():\n",
        "        state = row['Geographic Area Name']\n",
        "        facts = []\n",
        "\n",
        "        for est_col in estimate_cols:\n",
        "            label = meta_dict.get(est_col, est_col)\n",
        "            est_val = row[est_col]\n",
        "\n",
        "            if est_val not in ('-', '(X)', '', None):\n",
        "                est_clean = re.sub(r'[^\\d.\\-]', '', str(est_val))\n",
        "\n",
        "                # Simply add the estimate value without margin of error\n",
        "                facts.append(f\"{label.strip()}: {est_clean}\")\n",
        "\n",
        "        if facts:\n",
        "            full_text = f\"In {year}, in {state}, the following statistics were recorded: \" + \"; \".join(facts) + \".\"\n",
        "            jsonl_data.append({\n",
        "                \"year\": year,\n",
        "                \"state\": state,\n",
        "                \"text\": full_text\n",
        "            })\n",
        "\n",
        "# === Save all years into one file ===\n",
        "output_file = os.path.join(folder_path, \"structured_to_text_all_years2.json\")\n",
        "with open(output_file, 'w', encoding='utf-8') as f:\n",
        "    json.dump(jsonl_data, f, indent=4)\n",
        "\n",
        "print(f\"\\n✅ Final JSON file created with {len(jsonl_data)} entries: structured_to_text_all_years2.json\")"
      ],
      "metadata": {
        "colab": {
          "base_uri": "https://localhost:8080/"
        },
        "id": "clngq9PtoYNs",
        "outputId": "32aa720d-9f1a-4a01-bab2-8291dc319371"
      },
      "execution_count": null,
      "outputs": [
        {
          "output_type": "stream",
          "name": "stdout",
          "text": [
            "📦 Processing 2010...\n",
            "📦 Processing 2011...\n",
            "📦 Processing 2012...\n",
            "📦 Processing 2013...\n",
            "📦 Processing 2014...\n",
            "📦 Processing 2015...\n",
            "📦 Processing 2016...\n",
            "📦 Processing 2017...\n",
            "📦 Processing 2018...\n",
            "📦 Processing 2019...\n",
            "📦 Processing 2020...\n",
            "📦 Processing 2021...\n",
            "📦 Processing 2022...\n",
            "📦 Processing 2023...\n",
            "\n",
            "✅ Final JSON file created with 364 entries: structured_to_text_all_years2.json\n"
          ]
        }
      ]
    },
    {
      "cell_type": "code",
      "source": [],
      "metadata": {
        "id": "8YTgfnXToip-"
      },
      "execution_count": null,
      "outputs": []
    },
    {
      "cell_type": "code",
      "source": [],
      "metadata": {
        "id": "qcDYgrSzohx6"
      },
      "execution_count": null,
      "outputs": []
    },
    {
      "cell_type": "code",
      "source": [],
      "metadata": {
        "id": "ghdzi-k5ohcg"
      },
      "execution_count": null,
      "outputs": []
    },
    {
      "cell_type": "code",
      "source": [],
      "metadata": {
        "id": "ZxkOBena99Cz"
      },
      "execution_count": null,
      "outputs": []
    },
    {
      "cell_type": "code",
      "source": [],
      "metadata": {
        "id": "SYHAZlZt987b"
      },
      "execution_count": null,
      "outputs": []
    }
  ]
}