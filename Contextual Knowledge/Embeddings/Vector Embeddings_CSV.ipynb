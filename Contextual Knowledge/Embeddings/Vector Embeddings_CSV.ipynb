{
 "cells": [
  {
   "cell_type": "code",
   "execution_count": 16,
   "id": "83b67c38-4bab-4002-8115-d1cc6beba9e6",
   "metadata": {},
   "outputs": [],
   "source": [
    "from sentence_transformers import CrossEncoder"
   ]
  },
  {
   "cell_type": "code",
   "execution_count": null,
   "id": "fa0e05e1-1c14-413e-bc58-8c3aaed4defe",
   "metadata": {},
   "outputs": [
    {
     "name": "stderr",
     "output_type": "stream",
     "text": [
      "You are trying to use a model that was created with Sentence Transformers version 4.1.0.dev0, but you're currently using version 4.0.2. This might cause unexpected behavior or errors. In that case, try to update to the latest version.\n"
     ]
    },
    {
     "name": "stdout",
     "output_type": "stream",
     "text": [
      "\n",
      "🔍 Generating embeddings for 1441 documents...\n"
     ]
    },
    {
     "name": "stderr",
     "output_type": "stream",
     "text": [
      "Embedding: 100%|██████████████████████████████████████████████████████████████████████████████████████████████████████████| 181/181 [04:28<00:00,  1.48s/it]\n"
     ]
    },
    {
     "name": "stdout",
     "output_type": "stream",
     "text": [
      "✅ Converted evaluation_queries.json to graded format.\n"
     ]
    },
    {
     "name": "stderr",
     "output_type": "stream",
     "text": [
      "  0%|                                                                                                                                 | 0/5 [00:00<?, ?it/s]\n",
      "Embedding: 100%|██████████████████████████████████████████████████████████████████████████████████████████████████████████████| 1/1 [00:00<00:00, 17.29it/s]\u001b[A\n",
      " 20%|████████████████████████▏                                                                                                | 1/5 [00:00<00:01,  3.68it/s]\n",
      "Embedding: 100%|██████████████████████████████████████████████████████████████████████████████████████████████████████████████| 1/1 [00:00<00:00, 17.78it/s]\u001b[A\n",
      " 40%|████████████████████████████████████████████████▍                                                                        | 2/5 [00:00<00:00,  3.37it/s]\n",
      "Embedding: 100%|██████████████████████████████████████████████████████████████████████████████████████████████████████████████| 1/1 [00:00<00:00, 17.26it/s]\u001b[A\n",
      " 60%|████████████████████████████████████████████████████████████████████████▌                                                | 3/5 [00:01<00:00,  2.52it/s]\n",
      "Embedding: 100%|██████████████████████████████████████████████████████████████████████████████████████████████████████████████| 1/1 [00:00<00:00, 15.81it/s]\u001b[A\n",
      " 80%|████████████████████████████████████████████████████████████████████████████████████████████████▊                        | 4/5 [00:01<00:00,  1.99it/s]\n",
      "Embedding: 100%|██████████████████████████████████████████████████████████████████████████████████████████████████████████████| 1/1 [00:00<00:00, 15.95it/s]\u001b[A\n",
      "100%|█████████████████████████████████████████████████████████████████████████████████████████████████████████████████████████| 5/5 [00:02<00:00,  2.10it/s]"
     ]
    },
    {
     "name": "stdout",
     "output_type": "stream",
     "text": [
      "\n",
      "📊 Evaluation Summary (Graded Relevance, Top-5):\n",
      " - nDCG@5: 1.0000\n"
     ]
    },
    {
     "name": "stderr",
     "output_type": "stream",
     "text": [
      "\n"
     ]
    }
   ],
   "source": [
    "import os\n",
    "import json\n",
    "import faiss\n",
    "import torch\n",
    "import numpy as np\n",
    "import math\n",
    "from tqdm import tqdm\n",
    "from typing import List, Dict\n",
    "from transformers import AutoTokenizer, AutoModel\n",
    "from sentence_transformers import CrossEncoder\n",
    "\n",
    "embed_model_name = \"intfloat/e5-base-v2\"\n",
    "tokenizer = AutoTokenizer.from_pretrained(embed_model_name)\n",
    "embed_model = AutoModel.from_pretrained(embed_model_name)\n",
    "\n",
    "def get_embedding(texts: List[str], max_length=512, batch_size=8):\n",
    "    all_embeddings = []\n",
    "    for i in tqdm(range(0, len(texts), batch_size), desc=\"Embedding\"):\n",
    "        batch = texts[i:i+batch_size]\n",
    "        inputs = tokenizer(batch, return_tensors=\"pt\", padding=True, truncation=True, max_length=max_length)\n",
    "        with torch.no_grad():\n",
    "            outputs = embed_model(**inputs)\n",
    "        batch_embeddings = outputs.last_hidden_state[:, 0].cpu().numpy()\n",
    "        all_embeddings.append(batch_embeddings)\n",
    "    return np.vstack(all_embeddings)\n",
    "\n",
    "\n",
    "reranker = CrossEncoder(\"cross-encoder/ms-marco-MiniLM-L-6-v2\", device='cpu')\n",
    "\n",
    "def rerank(query: str, docs: List[str]) -> List[str]:\n",
    "    pairs = [[query, doc] for doc in docs]\n",
    "    scores = reranker.predict(pairs)\n",
    "    scored_docs = list(zip(docs, scores))\n",
    "    scored_docs.sort(key=lambda x: x[1], reverse=True)\n",
    "    return [doc for doc, _ in scored_docs]\n",
    "\n",
    "file_paths = [\n",
    "    'Pdf/dataset (1).json',\n",
    "    'Pdf/Merged Q& A data.json',\n",
    "    'Pdf/public_health_batch_2_51_to_100.json',\n",
    "    'Pdf/public_health_batch_3_101_to_150.json',\n",
    "    'Pdf/public_health_batch_4_next_50.json',\n",
    "    'Pdf/public_health_batch_5_next_50.json',\n",
    "    'Pdf/public_health_batch_6_statewise_200_to_249.json',\n",
    "    'Pdf/public_health_batch_7_statewise_250_to_299.json',\n",
    "    'Pdf/public_health_batch_9_statewise_350_to_399.json',\n",
    "    'Pdf/public_health_batch_10_countywise_400_to_449.json',\n",
    "    'Pdf/public_health_batch_11_countywise_450_to_499.json',\n",
    "    'Pdf/public_health_batch_12_countywise_500_to_549.json',\n",
    "    'Pdf/public_health_batch_13_countywise_550_to_599.json',\n",
    "    'Pdf/public_health_socioeconomic_dataset.json',\n",
    "    'Pdf/testing.json'\n",
    "]\n",
    "\n",
    "def extract_text_from_file(path: str) -> List[Dict]:\n",
    "    with open(path, 'r', encoding='utf-8') as f:\n",
    "        data = json.load(f)\n",
    "\n",
    "    texts = []\n",
    "    if isinstance(data, dict) and \"entries\" in data:\n",
    "        for entry in data[\"entries\"]:\n",
    "            content = f\"Q: {entry.get('question')} A: {entry.get('answer')}\"\n",
    "            texts.append({\"text\": content, \"source\": os.path.basename(path)})\n",
    "    elif isinstance(data, dict):\n",
    "        for doc in data.values():\n",
    "            content = ' '.join([\n",
    "                doc.get(\"title\", \"\"),\n",
    "                doc.get(\"abstract\", \"\"),\n",
    "                doc.get(\"summary\", \"\"),\n",
    "                doc.get(\"key_findings\", \"\"),\n",
    "                doc.get(\"conclusion\", \"\")\n",
    "            ])\n",
    "            texts.append({\"text\": content, \"source\": os.path.basename(path)})\n",
    "    elif isinstance(data, list):\n",
    "        for item in data:\n",
    "            content = ' '.join([\n",
    "                item.get(\"socio_economic_indicator\", \"\"),\n",
    "                item.get(\"summary\", \"\"),\n",
    "                item.get(\"analysis\", \"\"),\n",
    "                item.get(\"statistical_findings\", \"\")\n",
    "            ])\n",
    "            texts.append({\"text\": content, \"source\": os.path.basename(path)})\n",
    "    return texts\n",
    "\n",
    "documents = []\n",
    "for path in file_paths:\n",
    "    documents.extend(extract_text_from_file(path))\n",
    "\n",
    "texts = [doc[\"text\"] for doc in documents]\n",
    "print(f\"\\nGenerating embeddings for {len(texts)} documents...\")\n",
    "embeddings = get_embedding(texts)\n",
    "\n",
    "dimension = embeddings.shape[1]\n",
    "index = faiss.IndexFlatL2(dimension)\n",
    "index.add(np.array(embeddings))\n",
    "\n",
    "faiss.write_index(index, \"vector_index.faiss\")\n",
    "with open(\"vector_metadata.json\", \"w\") as f:\n",
    "    json.dump(documents, f, indent=2)\n",
    "\n",
    "\n",
    "def dcg(scores):\n",
    "    return sum([(rel / math.log2(rank + 2)) for rank, rel in enumerate(scores)])\n",
    "\n",
    "def ndcg_at_k(predicted_ids, relevance_dict, k=5):\n",
    "    scores = [relevance_dict.get(str(doc_id), 0) for doc_id in predicted_ids[:k]]\n",
    "    dcg_val = dcg(scores)\n",
    "    ideal_scores = sorted(relevance_dict.values(), reverse=True)[:k]\n",
    "    idcg_val = dcg(ideal_scores)\n",
    "    return dcg_val / idcg_val if idcg_val > 0 else 0.0\n",
    "\n",
    "\n",
    "def evaluate_ndcg(index, documents, model, eval_queries, k=5):\n",
    "    ndcg_total = 0\n",
    "    num_queries = len(eval_queries)\n",
    "\n",
    "    print(\"\\nPer-query nDCG@5 scores:\")\n",
    "\n",
    "    for item in tqdm(eval_queries):\n",
    "        query = item[\"query\"]\n",
    "        relevance = item[\"relevance\"]\n",
    "\n",
    "        query_embedding = get_embedding([query])\n",
    "        distances, indices = index.search(np.array(query_embedding), 10)\n",
    "        top_docs_raw = [documents[i][\"text\"] for i in indices[0]]\n",
    "\n",
    "        reranked_texts = rerank(query, top_docs_raw)\n",
    "        top_k_docs = reranked_texts[:k]\n",
    "\n",
    "        predicted_ids = [\n",
    "            idx for idx in indices[0]\n",
    "            if documents[idx][\"text\"] in top_k_docs\n",
    "        ][:k]\n",
    "\n",
    "        score = ndcg_at_k(predicted_ids, relevance, k)\n",
    "        ndcg_total += score\n",
    "\n",
    "        print(f\" - Query: {query[:50]}... → nDCG@{k}: {score:.4f}\")\n",
    "\n",
    "    print(f\"\\nFinal Evaluation Summary (Graded Relevance):\")\n",
    "    print(f\" - Mean nDCG@{k}: {ndcg_total / num_queries:.4f}\")\n",
    "\n",
    "\n",
    "def convert_old_eval_to_graded(path=\"evaluation_queries.json\"):\n",
    "    with open(path, \"r\") as f:\n",
    "        data = json.load(f)\n",
    "\n",
    "    if \"relevance\" in data[0]:\n",
    "        print(\"Already in graded format.\")\n",
    "        return\n",
    "\n",
    "    new_data = []\n",
    "    for item in data:\n",
    "        new_data.append({\n",
    "            \"query\": item[\"query\"],\n",
    "            \"relevance\": {str(doc_id): 3 for doc_id in item[\"relevant_doc_ids\"]}\n",
    "        })\n",
    "\n",
    "    with open(path, \"w\") as f:\n",
    "        json.dump(new_data, f, indent=2)\n",
    "    print(\"Converted evaluation_queries.json to graded format.\")\n",
    "\n",
    "if os.path.exists(\"evaluation_queries.json\"):\n",
    "    convert_old_eval_to_graded(\"evaluation_queries.json\")\n",
    "    with open(\"evaluation_queries.json\", \"r\") as f:\n",
    "        eval_queries = json.load(f)\n",
    "    index = faiss.read_index(\"vector_index.faiss\")\n",
    "    evaluate_ndcg(index, documents, embed_model, eval_queries, k=5)\n",
    "else:\n",
    "    print(\"No evaluation file found.\")\n"
   ]
  },
  {
   "cell_type": "code",
   "execution_count": 21,
   "id": "3f0a2649-30b8-40ff-ae7e-13d5cef087d6",
   "metadata": {},
   "outputs": [],
   "source": [
    "np.savez_compressed(\"document_embeddings.npz\", embeddings=embeddings)"
   ]
  },
  {
   "cell_type": "code",
   "execution_count": 22,
   "id": "e633e98b-1b9d-4a67-8972-9841062937e0",
   "metadata": {},
   "outputs": [],
   "source": [
    "with open(\"document_metadata.json\", \"w\") as f:\n",
    "    json.dump(documents, f, indent=2)"
   ]
  },
  {
   "cell_type": "code",
   "execution_count": 23,
   "id": "a4a5fc5c-206f-4a82-9155-5a31fbfd6128",
   "metadata": {},
   "outputs": [],
   "source": [
    "# Load embeddings\n",
    "loaded = np.load(\"document_embeddings.npz\")\n",
    "embeddings = loaded[\"embeddings\"]\n",
    "\n",
    "# Load metadata\n",
    "with open(\"document_metadata.json\", \"r\") as f:\n",
    "    documents = json.load(f)\n"
   ]
  },
  {
   "cell_type": "code",
   "execution_count": null,
   "id": "c79c0ae6-8df5-4ff3-b0b6-0ed72764d229",
   "metadata": {},
   "outputs": [],
   "source": []
  }
 ],
 "metadata": {
  "kernelspec": {
   "display_name": "Python 3 (ipykernel)",
   "language": "python",
   "name": "python3"
  },
  "language_info": {
   "codemirror_mode": {
    "name": "ipython",
    "version": 3
   },
   "file_extension": ".py",
   "mimetype": "text/x-python",
   "name": "python",
   "nbconvert_exporter": "python",
   "pygments_lexer": "ipython3",
   "version": "3.13.2"
  }
 },
 "nbformat": 4,
 "nbformat_minor": 5
}
